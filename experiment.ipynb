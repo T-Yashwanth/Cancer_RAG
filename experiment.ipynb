{
 "cells": [
  {
   "cell_type": "code",
   "execution_count": 1,
   "metadata": {},
   "outputs": [],
   "source": [
    "from langchain_community.document_loaders import PDFPlumberLoader"
   ]
  },
  {
   "cell_type": "code",
   "execution_count": null,
   "metadata": {},
   "outputs": [],
   "source": [
    "# Load the PDF document\n",
    "pdf_path = \"national-cancer-plan-508.pdf\"\n",
    "loader = PDFPlumberLoader(pdf_path)\n",
    "documents = loader.load()\n",
    "documents"
   ]
  },
  {
   "cell_type": "code",
   "execution_count": null,
   "metadata": {},
   "outputs": [],
   "source": [
    "documents[1].page_content"
   ]
  },
  {
   "cell_type": "code",
   "execution_count": null,
   "metadata": {},
   "outputs": [],
   "source": [
    "#Preprocessing\n",
    "import re\n",
    "\n",
    "def preprocess_text(text):\n",
    "    # Remove page numbers (e.g., \"Page 1\", \"1 of 10\")\n",
    "    #text = re.sub(r'Page \\d+', '', text)\n",
    "    #text = re.sub(r'\\d+ of \\d+', '', text)\n",
    "\n",
    "    # Remove repetitive headers/footers (e.g., \"NATIONAL CANCER PLAN |\")\n",
    "    text = re.sub(r'NATIONAL CANCER PLAN \\| \\d', '', text)\n",
    "\n",
    "    # Remove extra whitespace and newlines\n",
    "    #text = re.sub(r'\\s+', ' ', text).strip()\n",
    "\n",
    "    return text \n",
    "\n",
    "\n",
    "for doc in documents:\n",
    "    doc.page_content = preprocess_text(doc.page_content)\n",
    "\n",
    "documents[1].page_content"
   ]
  },
  {
   "cell_type": "code",
   "execution_count": 18,
   "metadata": {},
   "outputs": [],
   "source": [
    "from langchain.text_splitter import RecursiveCharacterTextSplitter\n",
    "\n",
    "splitter = RecursiveCharacterTextSplitter(\n",
    "    chunk_size = 1000,\n",
    "    chunk_overlap = 200,\n",
    "    length_function=len,\n",
    "    separators=[\"\\n\\n\", \"\\n\"]\n",
    ")\n",
    "\n",
    "chunks = splitter.split_documents(documents)"
   ]
  },
  {
   "cell_type": "code",
   "execution_count": null,
   "metadata": {},
   "outputs": [],
   "source": [
    "chunks[0].metadata"
   ]
  },
  {
   "cell_type": "code",
   "execution_count": null,
   "metadata": {},
   "outputs": [],
   "source": [
    "type(chunks[0])"
   ]
  },
  {
   "cell_type": "code",
   "execution_count": null,
   "metadata": {},
   "outputs": [],
   "source": [
    "#test\n",
    "from sentence_transformers import SentenceTransformer\n",
    "\n",
    "# Load the all-MiniLM-L6-v2 model\n",
    "embedding_model = SentenceTransformer(\"all-MiniLM-L6-v2\")"
   ]
  },
  {
   "cell_type": "code",
   "execution_count": 22,
   "metadata": {},
   "outputs": [],
   "source": [
    "#test\n",
    "# Extract the text from each document chunk\n",
    "texts = [doc.page_content for doc in chunks]"
   ]
  },
  {
   "cell_type": "code",
   "execution_count": null,
   "metadata": {},
   "outputs": [],
   "source": [
    "texts"
   ]
  },
  {
   "cell_type": "code",
   "execution_count": 24,
   "metadata": {},
   "outputs": [],
   "source": [
    "#test\n",
    "# Create sentence embeddings for all document chunks in a batch\n",
    "embeddings = embedding_model.encode(texts)"
   ]
  },
  {
   "cell_type": "code",
   "execution_count": null,
   "metadata": {},
   "outputs": [],
   "source": [
    "#test\n",
    "# Print embeddings for verification\n",
    "for idx, embedding in enumerate(embeddings):\n",
    "    print(f\"Document {idx} embedding (first 5 dimensions): {embedding[:5]} ... Total dimensions: {len(embedding)}\")"
   ]
  },
  {
   "cell_type": "code",
   "execution_count": null,
   "metadata": {},
   "outputs": [],
   "source": [
    "from langchain.vectorstores import FAISS\n",
    "from langchain.docstore.document import Document\n",
    "from langchain.embeddings import HuggingFaceEmbeddings\n",
    "\n",
    "# Initialize the embedding model with all-MiniLM-L6-v2\n",
    "embedding_model_hugg = HuggingFaceEmbeddings(model_name=\"all-MiniLM-L6-v2\")\n",
    "\n",
    "# Create a FAISS vector store from the documents.\n",
    "# LangChain automatically stores the metadata with each document internally.\n",
    "vector_store = FAISS.from_documents(chunks, embedding_model_hugg)"
   ]
  },
  {
   "cell_type": "code",
   "execution_count": null,
   "metadata": {},
   "outputs": [],
   "source": [
    "vector_store.docstore._dict.items()"
   ]
  },
  {
   "cell_type": "code",
   "execution_count": null,
   "metadata": {},
   "outputs": [],
   "source": [
    "#test\n",
    "for i in range(vector_store.index.ntotal):\n",
    "    # Use FAISS's reconstruct to get the vector for a given index.\n",
    "    embedding_vector = vector_store.index.reconstruct(i)\n",
    "\n",
    "    # Retrieve the corresponding document id.\n",
    "    #doc_id = vector_store._index_to_docstore_id[i]\n",
    "\n",
    "    # Access the original Document object from the internal docstore.\n",
    "    #doc_obj = vector_store.docstore._dict[doc_id]\n",
    "    #print(f\"Document ID: {doc_id}\")\n",
    "    #print(\"Text:\", doc_obj.page_content)\n",
    "    #print(\"Metadata:\", doc_obj.metadata)\n",
    "    print(\"Embedding vector:\", embedding_vector)\n",
    "    print(\"-\" * 50)"
   ]
  },
  {
   "cell_type": "code",
   "execution_count": 58,
   "metadata": {},
   "outputs": [],
   "source": [
    "# Save the vector store locally to a directory (e.g., \"faiss_index\")\n",
    "save_directory = \"faiss_index\"\n",
    "vector_store.save_local(save_directory)"
   ]
  },
  {
   "cell_type": "code",
   "execution_count": 59,
   "metadata": {},
   "outputs": [],
   "source": [
    "from langchain.chat_models import ChatOpenAI          # Chat LLM (like GPT-4 or GPT-3.5)\n",
    "from langchain.chains import ConversationalRetrievalChain  # Combines chat and retrieval\n",
    "from langchain.memory import ConversationBufferMemory    # Keeps track of conversation history"
   ]
  },
  {
   "cell_type": "code",
   "execution_count": null,
   "metadata": {},
   "outputs": [],
   "source": [
    "from dotenv import load_dotenv\n",
    "import os\n",
    "\n",
    "load_dotenv()  # This will load the variables from your .env file into os.environ\n",
    "\n",
    "# Now you can verify that the API key is loaded\n",
    "print(\"OPENAI_API_KEY is:\", os.environ.get(\"OPENAI_API_KEY\"))"
   ]
  },
  {
   "cell_type": "code",
   "execution_count": null,
   "metadata": {},
   "outputs": [],
   "source": [
    "#Set Up the Chat Model\n",
    "chat_llm = ChatOpenAI(temperature=0)"
   ]
  },
  {
   "cell_type": "code",
   "execution_count": null,
   "metadata": {},
   "outputs": [],
   "source": [
    "print(chat_llm.model_name)\n",
    "chat_gpt35 = ChatOpenAI(temperature=0, model_name=\"gpt-3.5-turbo\")\n",
    "print(\"Using model:\", chat_gpt35.model_name)\n",
    "\n",
    "# Instance using GPT-4 (requires proper access)\n",
    "chat_gpt4 = ChatOpenAI(temperature=0, model_name=\"gpt-4\")\n",
    "print(\"Using model:\", chat_gpt4.model_name)"
   ]
  },
  {
   "cell_type": "code",
   "execution_count": null,
   "metadata": {},
   "outputs": [],
   "source": [
    "#Establish Conversation Memory\n",
    "memory = ConversationBufferMemory(memory_key=\"chat_history\", return_messages=True)"
   ]
  },
  {
   "cell_type": "code",
   "execution_count": 62,
   "metadata": {},
   "outputs": [],
   "source": [
    "#Create the Conversational Retrieval Chain\n",
    "conversation_chain = ConversationalRetrievalChain.from_llm(\n",
    "    llm=chat_llm,\n",
    "    retriever=vector_store.as_retriever(search_kwargs={\"k\": 5}),  # Retrieves the top 5 most similar documents to a query\n",
    "    memory=memory\n",
    ")"
   ]
  },
  {
   "cell_type": "code",
   "execution_count": null,
   "metadata": {},
   "outputs": [],
   "source": [
    "#Create an Interactive Chat Loop\n",
    "print(\"Chatbot is ready! Type 'exit' to quit.\")\n",
    "while True:\n",
    "    user_input = input(\"User: \")\n",
    "    if user_input.lower() == \"exit\":\n",
    "        break\n",
    "    # Pass the user query to the conversation chain\n",
    "    result = conversation_chain({\"question\": user_input})\n",
    "    print(\"Chatbot:\", result[\"answer\"])"
   ]
  },
  {
   "cell_type": "code",
   "execution_count": null,
   "metadata": {},
   "outputs": [],
   "source": []
  },
  {
   "cell_type": "code",
   "execution_count": null,
   "metadata": {},
   "outputs": [],
   "source": []
  },
  {
   "cell_type": "code",
   "execution_count": null,
   "metadata": {},
   "outputs": [],
   "source": []
  },
  {
   "cell_type": "code",
   "execution_count": null,
   "metadata": {},
   "outputs": [],
   "source": []
  }
 ],
 "metadata": {
  "kernelspec": {
   "display_name": "cancer_rag",
   "language": "python",
   "name": "python3"
  },
  "language_info": {
   "codemirror_mode": {
    "name": "ipython",
    "version": 3
   },
   "file_extension": ".py",
   "mimetype": "text/x-python",
   "name": "python",
   "nbconvert_exporter": "python",
   "pygments_lexer": "ipython3",
   "version": "3.10.4"
  }
 },
 "nbformat": 4,
 "nbformat_minor": 2
}
